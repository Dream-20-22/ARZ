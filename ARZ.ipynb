{
  "nbformat": 4,
  "nbformat_minor": 0,
  "metadata": {
    "colab": {
      "provenance": [],
      "collapsed_sections": [],
      "authorship_tag": "ABX9TyO1jnZgqc1bP5b0cO5BON+F",
      "include_colab_link": true
    },
    "kernelspec": {
      "name": "python3",
      "display_name": "Python 3"
    },
    "language_info": {
      "name": "python"
    }
  },
  "cells": [
    {
      "cell_type": "markdown",
      "metadata": {
        "id": "view-in-github",
        "colab_type": "text"
      },
      "source": [
        "<a href=\"https://colab.research.google.com/github/Dream-20-22/ARZ/blob/main/ARZ.ipynb\" target=\"_parent\"><img src=\"https://colab.research.google.com/assets/colab-badge.svg\" alt=\"Open In Colab\"/></a>"
      ]
    },
    {
      "cell_type": "markdown",
      "source": [
        "# Egyptian Arabic Wikipedia with Wikipedia2Vec:"
      ],
      "metadata": {
        "id": "iMbqOgEHnP9u"
      }
    },
    {
      "cell_type": "markdown",
      "source": [
        "## Installing Wikipedia2Vec Algorithm:"
      ],
      "metadata": {
        "id": "zEDv_77xokSB"
      }
    },
    {
      "cell_type": "code",
      "execution_count": null,
      "metadata": {
        "colab": {
          "base_uri": "https://localhost:8080/"
        },
        "id": "zC_jxhL7CQxe",
        "outputId": "6aef90cf-fb35-4bcc-8816-7aa2a6c986ba"
      },
      "outputs": [
        {
          "output_type": "stream",
          "name": "stdout",
          "text": [
            "Looking in indexes: https://pypi.org/simple, https://us-python.pkg.dev/colab-wheels/public/simple/\n",
            "Collecting wikipedia2vec\n",
            "  Downloading wikipedia2vec-1.0.5.tar.gz (1.2 MB)\n",
            "\u001b[K     |████████████████████████████████| 1.2 MB 5.2 MB/s \n",
            "\u001b[?25hRequirement already satisfied: click in /usr/local/lib/python3.7/dist-packages (from wikipedia2vec) (7.1.2)\n",
            "Requirement already satisfied: jieba in /usr/local/lib/python3.7/dist-packages (from wikipedia2vec) (0.42.1)\n",
            "Requirement already satisfied: joblib in /usr/local/lib/python3.7/dist-packages (from wikipedia2vec) (1.2.0)\n",
            "Requirement already satisfied: lmdb in /usr/local/lib/python3.7/dist-packages (from wikipedia2vec) (0.99)\n",
            "Collecting marisa-trie\n",
            "  Downloading marisa_trie-0.7.8-cp37-cp37m-manylinux_2_17_x86_64.manylinux2014_x86_64.whl (1.2 MB)\n",
            "\u001b[K     |████████████████████████████████| 1.2 MB 42.5 MB/s \n",
            "\u001b[?25hCollecting mwparserfromhell\n",
            "  Downloading mwparserfromhell-0.6.4-cp37-cp37m-manylinux_2_5_x86_64.manylinux1_x86_64.manylinux_2_17_x86_64.manylinux2014_x86_64.whl (176 kB)\n",
            "\u001b[K     |████████████████████████████████| 176 kB 51.6 MB/s \n",
            "\u001b[?25hRequirement already satisfied: numpy in /usr/local/lib/python3.7/dist-packages (from wikipedia2vec) (1.21.6)\n",
            "Requirement already satisfied: scipy in /usr/local/lib/python3.7/dist-packages (from wikipedia2vec) (1.7.3)\n",
            "Requirement already satisfied: six in /usr/local/lib/python3.7/dist-packages (from wikipedia2vec) (1.15.0)\n",
            "Requirement already satisfied: tqdm in /usr/local/lib/python3.7/dist-packages (from wikipedia2vec) (4.64.1)\n",
            "Requirement already satisfied: setuptools in /usr/local/lib/python3.7/dist-packages (from marisa-trie->wikipedia2vec) (57.4.0)\n",
            "Building wheels for collected packages: wikipedia2vec\n",
            "  Building wheel for wikipedia2vec (setup.py) ... \u001b[?25l\u001b[?25hdone\n",
            "  Created wheel for wikipedia2vec: filename=wikipedia2vec-1.0.5-cp37-cp37m-linux_x86_64.whl size=4558234 sha256=6b403c443fd431abf1b49900a7d53a6eda590103c092ba9942a8f9f3c8fc6918\n",
            "  Stored in directory: /root/.cache/pip/wheels/60/ab/8a/23eec52d43509b9caba03d0d8c006b9f827aa6c6be177ae1ca\n",
            "Successfully built wikipedia2vec\n",
            "Installing collected packages: mwparserfromhell, marisa-trie, wikipedia2vec\n",
            "Successfully installed marisa-trie-0.7.8 mwparserfromhell-0.6.4 wikipedia2vec-1.0.5\n"
          ]
        }
      ],
      "source": [
        "!pip install wikipedia2vec"
      ]
    },
    {
      "cell_type": "markdown",
      "source": [
        "## Downloading Egyptian Arabic Wikipedia: "
      ],
      "metadata": {
        "id": "bz77bBkkoMOw"
      }
    },
    {
      "cell_type": "code",
      "source": [
        "!wget https://dumps.wikimedia.org/arzwiki/20220801/arzwiki-20220801-pages-articles-multistream.xml.bz2"
      ],
      "metadata": {
        "colab": {
          "base_uri": "https://localhost:8080/"
        },
        "id": "msAcl2glDG2k",
        "outputId": "b12ee5e7-3523-47b6-bcbe-402d8075dbaf"
      },
      "execution_count": null,
      "outputs": [
        {
          "output_type": "stream",
          "name": "stdout",
          "text": [
            "--2022-10-30 06:17:05--  https://dumps.wikimedia.org/arzwiki/20220801/arzwiki-20220801-pages-articles-multistream.xml.bz2\n",
            "Resolving dumps.wikimedia.org (dumps.wikimedia.org)... 208.80.154.142, 2620:0:861:2:208:80:154:142\n",
            "Connecting to dumps.wikimedia.org (dumps.wikimedia.org)|208.80.154.142|:443... connected.\n",
            "HTTP request sent, awaiting response... 200 OK\n",
            "Length: 229390956 (219M) [application/octet-stream]\n",
            "Saving to: ‘arzwiki-20220801-pages-articles-multistream.xml.bz2’\n",
            "\n",
            "arzwiki-20220801-pa 100%[===================>] 218.76M  3.44MB/s    in 67s     \n",
            "\n",
            "2022-10-30 06:18:12 (3.28 MB/s) - ‘arzwiki-20220801-pages-articles-multistream.xml.bz2’ saved [229390956/229390956]\n",
            "\n"
          ]
        }
      ]
    },
    {
      "cell_type": "markdown",
      "source": [
        "## Training on Egyptian Arabic Wikipedia with Wikipedia2Vec:"
      ],
      "metadata": {
        "id": "WXcoCYm8o8Qm"
      }
    },
    {
      "cell_type": "code",
      "source": [
        "!wikipedia2vec train arzwiki-20220801-pages-articles-multistream.xml.bz2 ARZWIKI"
      ],
      "metadata": {
        "colab": {
          "base_uri": "https://localhost:8080/"
        },
        "id": "NIqKj5kZDrH3",
        "outputId": "ba335e59-469a-4d5f-8800-f0b3bc19227a"
      },
      "execution_count": null,
      "outputs": [
        {
          "output_type": "stream",
          "name": "stdout",
          "text": [
            "[2022-10-14 01:16:54,361] [INFO] Starting to build a Dump DB... (train@cli.py:128)\n",
            "[2022-10-14 01:19:01,624] [INFO] Processed: 100000 pages (_get_tasks@pool.py:528)\n",
            "[2022-10-14 01:20:18,260] [INFO] Processed: 200000 pages (_get_tasks@pool.py:528)\n",
            "[2022-10-14 01:21:41,739] [INFO] Processed: 300000 pages (_get_tasks@pool.py:528)\n",
            "[2022-10-14 01:22:59,125] [INFO] Processed: 400000 pages (_get_tasks@pool.py:528)\n",
            "[2022-10-14 01:24:08,556] [INFO] Processed: 500000 pages (_get_tasks@pool.py:528)\n",
            "[2022-10-14 01:25:15,838] [INFO] Processed: 600000 pages (_get_tasks@pool.py:528)\n",
            "[2022-10-14 01:27:21,060] [INFO] Processed: 700000 pages (_get_tasks@pool.py:528)\n",
            "[2022-10-14 01:29:48,544] [INFO] Processed: 800000 pages (_get_tasks@pool.py:528)\n",
            "[2022-10-14 01:32:40,603] [INFO] Processed: 900000 pages (_get_tasks@pool.py:528)\n",
            "[2022-10-14 01:34:47,297] [INFO] Processed: 1000000 pages (_get_tasks@pool.py:528)\n",
            "[2022-10-14 01:36:45,593] [INFO] Processed: 1100000 pages (_get_tasks@pool.py:528)\n",
            "[2022-10-14 01:37:48,908] [INFO] Processed: 1200000 pages (_get_tasks@pool.py:528)\n",
            "[2022-10-14 01:39:41,115] [INFO] Processed: 1300000 pages (_get_tasks@pool.py:528)\n",
            "[2022-10-14 01:41:08,050] [INFO] Processed: 1400000 pages (_get_tasks@pool.py:528)\n",
            "[2022-10-14 01:42:19,622] [INFO] Processed: 1500000 pages (_get_tasks@pool.py:528)\n",
            "[2022-10-14 01:43:01,221] [INFO] Processed: 1600000 pages (_get_tasks@pool.py:528)\n",
            "[2022-10-14 01:44:01,874] [INFO] Processed: 1700000 pages (_get_tasks@pool.py:528)\n",
            "[2022-10-14 01:44:52,283] [INFO] Starting to build a dictionary... (train@cli.py:133)\n",
            "[2022-10-14 01:44:52,326] [INFO] Step 1/2: Processing Wikipedia pages... (build_dictionary@cli.py:187)\n",
            "100% 1774325/1774325 [05:06<00:00, 5787.62it/s]\n",
            "[2022-10-14 01:49:58,915] [INFO] Step 2/2: Processing Wikipedia redirects... (build_dictionary@cli.py:187)\n",
            "[2022-10-14 01:50:02,311] [INFO] 273786 words and 99993 entities are indexed in the dictionary (build_dictionary@cli.py:187)\n",
            "[2022-10-14 01:50:02,374] [INFO] Starting to build a link graph... (train@cli.py:138)\n",
            "[2022-10-14 01:50:02,378] [INFO] Step 1/2: Processing Wikipedia pages... (build_link_graph@cli.py:200)\n",
            "100% 1774325/1774325 [00:11<00:00, 152095.31it/s]\n",
            "[2022-10-14 01:50:14,075] [INFO] Step 2/2: Converting matrix... (build_link_graph@cli.py:200)\n",
            "[2022-10-14 01:50:14,347] [INFO] Starting to build a mention DB... (train@cli.py:147)\n",
            "[2022-10-14 01:50:14,354] [INFO] Step 1/3: Starting to iterate over Wikipedia pages... (build_mention_db@cli.py:221)\n",
            "100% 1774325/1774325 [01:34<00:00, 18761.03it/s]\n",
            "[2022-10-14 01:51:48,955] [INFO] Step 2/3: Starting to count occurrences... (build_mention_db@cli.py:221)\n",
            "100% 1774325/1774325 [05:48<00:00, 5094.88it/s]\n",
            "[2022-10-14 01:57:37,426] [INFO] Step 3/3: Building DB... (build_mention_db@cli.py:221)\n",
            "[2022-10-14 01:57:38,103] [INFO] Starting to train embeddings... (train@cli.py:156)\n",
            "[2022-10-14 01:57:38,868] [INFO] Total number of word occurrences: 406200330 (train_embedding@cli.py:257)\n",
            "[2022-10-14 01:57:38,869] [INFO] Building a sampling table for frequent words... (train_embedding@cli.py:257)\n",
            "[2022-10-14 01:57:39,376] [INFO] Building tables for negative sampling... (train_embedding@cli.py:257)\n",
            "[2022-10-14 01:58:03,368] [INFO] Building tables for link indices... (train_embedding@cli.py:257)\n",
            "[2022-10-14 01:58:34,137] [INFO] Starting to train embeddings... (train_embedding@cli.py:257)\n",
            "[2022-10-14 01:58:34,143] [INFO] Initializing weights... (train_embedding@cli.py:257)\n",
            "Iteration 1/5: 100% 1774325/1774325 [17:45<00:00, 1666.02it/s]\n",
            "Iteration 2/5: 100% 1774325/1774325 [17:10<00:00, 1721.74it/s]\n",
            "Iteration 3/5: 100% 1774325/1774325 [17:06<00:00, 1727.72it/s]\n",
            "Iteration 4/5: 100% 1774325/1774325 [17:02<00:00, 1735.82it/s]\n",
            "Iteration 5/5: 100% 1774325/1774325 [16:58<00:00, 1741.55it/s]\n",
            "[2022-10-14 03:24:39,730] [INFO] Terminating pool workers... (train_embedding@cli.py:257)\n"
          ]
        }
      ]
    },
    {
      "cell_type": "markdown",
      "source": [
        "## Exporting Egyptian Arabic Wikipedia Word Vectors in GloVe Format:"
      ],
      "metadata": {
        "id": "BNJsT2ZgpSv_"
      }
    },
    {
      "cell_type": "code",
      "source": [
        "!wikipedia2vec save-text ARZWIKI GloVe-ARZ-Vectors.txt --out-format glove"
      ],
      "metadata": {
        "id": "OmIk9T8FgIpI",
        "colab": {
          "base_uri": "https://localhost:8080/"
        },
        "outputId": "4679f452-cdc2-4954-fbbb-9d696895dd33"
      },
      "execution_count": null,
      "outputs": [
        {
          "output_type": "stream",
          "name": "stdout",
          "text": [
            "/bin/bash: wikipedia2vec: command not found\n"
          ]
        }
      ]
    },
    {
      "cell_type": "markdown",
      "source": [
        "## Saving Egyptian Arabic Wikipedia Word Vectors"
      ],
      "metadata": {
        "id": "_xAbVxkFp70z"
      }
    },
    {
      "cell_type": "code",
      "source": [
        "from google.colab import files\n",
        "\n",
        "files.download('ARZWIKI')\n",
        "files.download('GloVe-ARZ-Vectors.txt')"
      ],
      "metadata": {
        "id": "5fA1K6zjhVZn"
      },
      "execution_count": null,
      "outputs": []
    },
    {
      "cell_type": "markdown",
      "source": [
        "## GloVe Model:"
      ],
      "metadata": {
        "id": "GU7v-8ZTqF4j"
      }
    },
    {
      "cell_type": "code",
      "source": [
        "from gensim.models import KeyedVectors\n",
        "from gensim.test.utils import datapath, get_tmpfile\n",
        "from gensim.scripts.glove2word2vec import glove2word2vec\n",
        "\n",
        "import warnings, os\n",
        "warnings.simplefilter(action='ignore', category=FutureWarning)\n",
        "warnings.simplefilter(action='ignore', category=DeprecationWarning)\n",
        "\n",
        "glove_file = datapath('/content/GloVe-ARZ-Vectors.txt')\n",
        "word2vec_glove_file = get_tmpfile(\"glove-arz-vectors-word2vec.txt\")\n",
        "glove2word2vec(glove_file, word2vec_glove_file)\n",
        "\n",
        "glove_model = KeyedVectors.load_word2vec_format(word2vec_glove_file)"
      ],
      "metadata": {
        "id": "KSFY0LdkgxjS"
      },
      "execution_count": null,
      "outputs": []
    },
    {
      "cell_type": "markdown",
      "source": [
        "### Word Embeddings of a Given Word:"
      ],
      "metadata": {
        "id": "VkbPn5FjqRtJ"
      }
    },
    {
      "cell_type": "code",
      "source": [
        "glove_model['فتاة']  # Word is girl"
      ],
      "metadata": {
        "colab": {
          "base_uri": "https://localhost:8080/"
        },
        "id": "XCakhzbuhDka",
        "outputId": "32dc4c56-21e7-44a8-a222-d3d96e5e925c"
      },
      "execution_count": null,
      "outputs": [
        {
          "output_type": "execute_result",
          "data": {
            "text/plain": [
              "array([-0.4143, -0.2483, -0.1449, -0.2337,  0.1569, -0.34  , -0.5956,\n",
              "       -0.1667,  0.1896, -0.5941, -0.1363,  0.1949,  0.6005, -0.2374,\n",
              "        0.181 ,  0.0727, -0.0516, -0.2949,  0.3428,  0.2326,  0.1694,\n",
              "       -0.0892, -0.0973,  0.0337, -0.1792,  0.4585, -0.0909,  0.0985,\n",
              "        0.5254,  0.1947, -0.413 ,  0.4002,  0.2342, -0.1494, -0.0504,\n",
              "        0.2895, -0.1464,  0.4064, -0.3241, -0.0838,  0.0294, -0.7759,\n",
              "       -0.4542,  0.1104,  0.5474,  0.1696, -0.2198, -0.3601,  0.1451,\n",
              "        0.429 , -0.2464, -0.1785,  0.1566,  0.8484, -0.048 , -0.2869,\n",
              "       -0.282 ,  0.2554,  0.0373,  0.0241,  0.461 ,  0.1274, -0.0908,\n",
              "        0.3214,  0.0248,  0.2923, -0.4902,  0.4156, -0.2125,  0.0702,\n",
              "        0.5386, -0.0664,  0.0786,  0.2253,  0.3792,  0.2098, -0.2533,\n",
              "        0.402 ,  0.0375, -0.2301,  0.0475, -0.6517,  0.3632,  0.3711,\n",
              "       -0.8242,  0.5081,  0.439 ,  0.1077, -0.0361, -0.0975,  0.1266,\n",
              "        0.1744,  0.0461, -0.5884, -0.6683,  0.3425,  0.1079, -0.0168,\n",
              "       -0.056 , -0.5996], dtype=float32)"
            ]
          },
          "metadata": {},
          "execution_count": 12
        }
      ]
    },
    {
      "cell_type": "markdown",
      "source": [
        "### Glove's Most Similar Words of a Given word:"
      ],
      "metadata": {
        "id": "6q5XUUk6qgIx"
      }
    },
    {
      "cell_type": "code",
      "source": [
        "glove_model.most_similar(\"فتاة\")  # Results are her movies, woman, saleswoman, Artist,  play, Good-Bye, miss, note, and cinematic."
      ],
      "metadata": {
        "colab": {
          "base_uri": "https://localhost:8080/"
        },
        "id": "q-XJuybshIUA",
        "outputId": "5506ef65-85fe-4a31-aa66-41317651a671"
      },
      "execution_count": null,
      "outputs": [
        {
          "output_type": "execute_result",
          "data": {
            "text/plain": [
              "[('أفلامها', 0.8804358839988708),\n",
              " ('إمرأة', 0.873958945274353),\n",
              " ('بائعة', 0.8688148260116577),\n",
              " ('فنانة', 0.8668267726898193),\n",
              " ('ومسرحية', 0.8638350963592529),\n",
              " ('وداعا', 0.8631765246391296),\n",
              " ('الآنسة', 0.861768901348114),\n",
              " ('لواحظ', 0.8613879084587097),\n",
              " ('سينمائية', 0.8608811497688293),\n",
              " ('العدوية', 0.8603450059890747)]"
            ]
          },
          "metadata": {},
          "execution_count": 13
        }
      ]
    },
    {
      "cell_type": "markdown",
      "source": [
        "## Word Embedding Analogies Testing:"
      ],
      "metadata": {
        "id": "5DMLr906qvL0"
      }
    },
    {
      "cell_type": "markdown",
      "source": [
        "### Queen - Girl + Boy = ____?"
      ],
      "metadata": {
        "id": "1eUtV3Aaq9G1"
      }
    },
    {
      "cell_type": "code",
      "source": [
        "glove_model.most_similar(positive=['فتى', 'ملكة'], negative=['فتاة'], topn=1)  # Result is 'Isabella'."
      ],
      "metadata": {
        "colab": {
          "base_uri": "https://localhost:8080/"
        },
        "id": "NGQjCCRihLnl",
        "outputId": "8c7e9a33-094f-427b-92b3-cbaa83c7849c"
      },
      "execution_count": null,
      "outputs": [
        {
          "output_type": "execute_result",
          "data": {
            "text/plain": [
              "[('لايزابيلا', 0.723358690738678)]"
            ]
          },
          "metadata": {},
          "execution_count": 58
        }
      ]
    },
    {
      "cell_type": "markdown",
      "source": [
        "### Queen - Woman + Man = ____?"
      ],
      "metadata": {
        "id": "euBW1m0N19WN"
      }
    },
    {
      "cell_type": "code",
      "source": [
        "glove_model.most_similar(positive=['رجل', 'ملكة'], negative=['امرأة'], topn=1)    # Result is 'Business'."
      ],
      "metadata": {
        "id": "Av0wA6AXhFOg",
        "colab": {
          "base_uri": "https://localhost:8080/"
        },
        "outputId": "4607cf40-1098-430d-c198-245afcfa1514"
      },
      "execution_count": null,
      "outputs": [
        {
          "output_type": "execute_result",
          "data": {
            "text/plain": [
              "[('اعمال', 0.6695772409439087)]"
            ]
          },
          "metadata": {},
          "execution_count": 18
        }
      ]
    },
    {
      "cell_type": "markdown",
      "source": [
        "### Queen - Woman + Boy = ____?"
      ],
      "metadata": {
        "id": "wCDjh0JP2kJH"
      }
    },
    {
      "cell_type": "code",
      "source": [
        "glove_model.most_similar(positive=['فتى', 'ملكة'], negative=['امرأة'], topn=1)  # Result is 'Isabella'."
      ],
      "metadata": {
        "colab": {
          "base_uri": "https://localhost:8080/"
        },
        "id": "Dfkw9yqL24N3",
        "outputId": "e06b5bfa-4640-40fc-86de-67d0307b170e"
      },
      "execution_count": null,
      "outputs": [
        {
          "output_type": "execute_result",
          "data": {
            "text/plain": [
              "[('إليزابيث', 0.6812852025032043)]"
            ]
          },
          "metadata": {},
          "execution_count": 59
        }
      ]
    },
    {
      "cell_type": "markdown",
      "source": [
        "### Queen - Girl + Man = ____?"
      ],
      "metadata": {
        "id": "qyoYOFv42y0L"
      }
    },
    {
      "cell_type": "code",
      "source": [
        "glove_model.most_similar(positive=['رجل', 'ملكة'], negative=['فتاة'], topn=1)    # Result is 'Business'."
      ],
      "metadata": {
        "colab": {
          "base_uri": "https://localhost:8080/"
        },
        "id": "Zwkt-5r-3Ics",
        "outputId": "746fecb9-9aeb-4a2f-bcbf-de8a7600cdf7"
      },
      "execution_count": null,
      "outputs": [
        {
          "output_type": "execute_result",
          "data": {
            "text/plain": [
              "[('اعمال', 0.666618824005127)]"
            ]
          },
          "metadata": {},
          "execution_count": 60
        }
      ]
    },
    {
      "cell_type": "markdown",
      "source": [
        "### King - Man + Girl = ___?"
      ],
      "metadata": {
        "id": "XE9BwCU1rQEK"
      }
    },
    {
      "cell_type": "code",
      "source": [
        "glove_model.most_similar(positive=['فتاة','ملك'], negative=['رجل'], topn=1)  # Result is 'nickname'."
      ],
      "metadata": {
        "colab": {
          "base_uri": "https://localhost:8080/"
        },
        "id": "aKUUh4kQhPvz",
        "outputId": "926d2701-4719-48ad-8eac-e263eec852d7"
      },
      "execution_count": null,
      "outputs": [
        {
          "output_type": "execute_result",
          "data": {
            "text/plain": [
              "[('بلقب', 0.6877765655517578)]"
            ]
          },
          "metadata": {},
          "execution_count": 16
        }
      ]
    },
    {
      "cell_type": "markdown",
      "source": [
        "### King - Man + Woman =___?"
      ],
      "metadata": {
        "id": "p88yLw341aHv"
      }
    },
    {
      "cell_type": "code",
      "source": [
        "glove_model.most_similar(positive=['إمرأة','ملك'], negative=['رجل'], topn=1)   # Result is 'nickname'."
      ],
      "metadata": {
        "id": "JO_TSdHzhRKg",
        "colab": {
          "base_uri": "https://localhost:8080/"
        },
        "outputId": "36e9520e-49d2-4ca3-a753-2a96d4b99822"
      },
      "execution_count": null,
      "outputs": [
        {
          "output_type": "execute_result",
          "data": {
            "text/plain": [
              "[('بلقب', 0.7055796980857849)]"
            ]
          },
          "metadata": {},
          "execution_count": 17
        }
      ]
    },
    {
      "cell_type": "markdown",
      "source": [
        "### King - Boy + Woman =___?"
      ],
      "metadata": {
        "id": "_gObhYQr3r-e"
      }
    },
    {
      "cell_type": "code",
      "source": [
        "glove_model.most_similar(positive=['إمرأة','ملك'], negative=['فتى'], topn=1)   # Result is 'invade'."
      ],
      "metadata": {
        "colab": {
          "base_uri": "https://localhost:8080/"
        },
        "id": "I2Qm_xFX3yLY",
        "outputId": "01ab061b-5e7c-4972-d14c-dc2014f7539c"
      },
      "execution_count": null,
      "outputs": [
        {
          "output_type": "execute_result",
          "data": {
            "text/plain": [
              "[('غزا', 0.6675646901130676)]"
            ]
          },
          "metadata": {},
          "execution_count": 61
        }
      ]
    },
    {
      "cell_type": "markdown",
      "source": [
        "### King - Boy + Girl =___?"
      ],
      "metadata": {
        "id": "0oCTLyMs4TW6"
      }
    },
    {
      "cell_type": "code",
      "source": [
        "glove_model.most_similar(positive=['فتاة','ملك'], negative=['فتى'], topn=1)   # Result is 'queen'."
      ],
      "metadata": {
        "colab": {
          "base_uri": "https://localhost:8080/"
        },
        "id": "GEKEHT6P4dh9",
        "outputId": "ff7c7698-2c67-4e69-b316-12ae64e94f34"
      },
      "execution_count": null,
      "outputs": [
        {
          "output_type": "execute_result",
          "data": {
            "text/plain": [
              "[('ملكة', 0.6291900277137756)]"
            ]
          },
          "metadata": {},
          "execution_count": 62
        }
      ]
    },
    {
      "cell_type": "markdown",
      "source": [
        "### Using The list of Formal and Informal Egyptian Words:"
      ],
      "metadata": {
        "id": "uSPCDPr3yHa8"
      }
    },
    {
      "cell_type": "code",
      "source": [
        "words= ['امرأه','رجل','ولد','ام','اب','فتاة','فتى','ملكه','ملك','سيده','سيد','ابنه'] #  formal list is  [daughter,sir,madam,king,queen,boy,girl,father,mother,son,man,woman] respectively.\n",
        "for w in words:\n",
        "   print(w ,\">>>>>\" , glove_model.most_similar(w, topn=1) ,\"\\n\")   \n"
      ],
      "metadata": {
        "colab": {
          "base_uri": "https://localhost:8080/"
        },
        "id": "nJ-WaV3Yjvfr",
        "outputId": "d35de16f-59a8-4120-b3a6-046f75f204b8"
      },
      "execution_count": null,
      "outputs": [
        {
          "output_type": "stream",
          "name": "stdout",
          "text": [
            "امرأه >>>>> [('أنتج', 0.8732668161392212)] \n",
            "\n",
            "رجل >>>>> [('اعمال', 0.9118801355361938)] \n",
            "\n",
            "ولد >>>>> [('وشاعر', 0.7694542407989502)] \n",
            "\n",
            "ام >>>>> [('آلجوى', 0.6526167392730713)] \n",
            "\n",
            "اب >>>>> [('ن', 0.6717014312744141)] \n",
            "\n",
            "فتاة >>>>> [('أفلامها', 0.8804358839988708)] \n",
            "\n",
            "فتى >>>>> [('مستوحى', 0.8891585469245911)] \n",
            "\n",
            "ملكه >>>>> [('الجمال', 0.8149067163467407)] \n",
            "\n",
            "ملك >>>>> [('الاول', 0.8070651888847351)] \n",
            "\n",
            "سيده >>>>> [('اعمال', 0.7189852595329285)] \n",
            "\n",
            "سيد >>>>> [('درويش', 0.6999503970146179)] \n",
            "\n",
            "ابنه >>>>> [('أخوه', 0.8724716901779175)] \n",
            "\n"
          ]
        }
      ]
    },
    {
      "cell_type": "code",
      "source": [
        "words= ['استاذ','ست','راجل','بنت','ابن','والده','والد','بنت','ولد','ملكه','ملك','استاذه']  # informal list is  [madam ,king ,queen,boy,daughter,father,mother,son,girl,man,woman,sir] respectively.\n",
        "for w in words:\n",
        "   print(w ,\">>>>>\" , glove_model.most_similar(w, topn=1) ,\"\\n\")"
      ],
      "metadata": {
        "colab": {
          "base_uri": "https://localhost:8080/"
        },
        "id": "TSDtaJ9Dv3AH",
        "outputId": "f7b843d3-4688-4126-a641-9d0ef9cc88e5"
      },
      "execution_count": null,
      "outputs": [
        {
          "output_type": "stream",
          "name": "stdout",
          "text": [
            "استاذ >>>>> [('جامعى', 0.8718169927597046)] \n",
            "\n",
            "ست >>>>> [('خمس', 0.7703227400779724)] \n",
            "\n",
            "راجل >>>>> [('الراجل', 0.7660372853279114)] \n",
            "\n",
            "بنت >>>>> [('أخت', 0.8305206894874573)] \n",
            "\n",
            "ابن >>>>> [('وابن', 0.8155527710914612)] \n",
            "\n",
            "والده >>>>> [('والدها', 0.8235136270523071)] \n",
            "\n",
            "والد >>>>> [('زوجة', 0.7974710464477539)] \n",
            "\n",
            "بنت >>>>> [('أخت', 0.8305206894874573)] \n",
            "\n",
            "ولد >>>>> [('وشاعر', 0.7694542407989502)] \n",
            "\n",
            "ملكه >>>>> [('الجمال', 0.8149067163467407)] \n",
            "\n",
            "ملك >>>>> [('الاول', 0.8070651888847351)] \n",
            "\n",
            "استاذه >>>>> [('جامعيه', 0.8999825716018677)] \n",
            "\n"
          ]
        }
      ]
    }
  ]
}