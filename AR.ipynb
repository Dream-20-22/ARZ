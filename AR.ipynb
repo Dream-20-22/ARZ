{
  "nbformat": 4,
  "nbformat_minor": 0,
  "metadata": {
    "colab": {
      "provenance": [],
      "collapsed_sections": [],
      "authorship_tag": "ABX9TyNoQjfbQTuFbN1ii3O1tdW7",
      "include_colab_link": true
    },
    "kernelspec": {
      "name": "python3",
      "display_name": "Python 3"
    },
    "language_info": {
      "name": "python"
    }
  },
  "cells": [
    {
      "cell_type": "markdown",
      "metadata": {
        "id": "view-in-github",
        "colab_type": "text"
      },
      "source": [
        "<a href=\"https://colab.research.google.com/github/Dream-20-22/ARZ/blob/main/AR.ipynb\" target=\"_parent\"><img src=\"https://colab.research.google.com/assets/colab-badge.svg\" alt=\"Open In Colab\"/></a>"
      ]
    },
    {
      "cell_type": "markdown",
      "source": [
        "# Arabic Wikipedia with Wikipedia2Vec:"
      ],
      "metadata": {
        "id": "fI2H1WRT6zNc"
      }
    },
    {
      "cell_type": "code",
      "execution_count": null,
      "metadata": {
        "colab": {
          "base_uri": "https://localhost:8080/"
        },
        "id": "I0oD2s1f6oU1",
        "outputId": "3c824f53-bccc-45a6-8a42-1b8ee4b01c03"
      },
      "outputs": [
        {
          "output_type": "stream",
          "name": "stdout",
          "text": [
            "Looking in indexes: https://pypi.org/simple, https://us-python.pkg.dev/colab-wheels/public/simple/\n",
            "Collecting wikipedia2vec\n",
            "  Downloading wikipedia2vec-1.0.5.tar.gz (1.2 MB)\n",
            "\u001b[K     |████████████████████████████████| 1.2 MB 9.2 MB/s \n",
            "\u001b[?25hRequirement already satisfied: click in /usr/local/lib/python3.7/dist-packages (from wikipedia2vec) (7.1.2)\n",
            "Requirement already satisfied: jieba in /usr/local/lib/python3.7/dist-packages (from wikipedia2vec) (0.42.1)\n",
            "Requirement already satisfied: joblib in /usr/local/lib/python3.7/dist-packages (from wikipedia2vec) (1.2.0)\n",
            "Requirement already satisfied: lmdb in /usr/local/lib/python3.7/dist-packages (from wikipedia2vec) (0.99)\n",
            "Collecting marisa-trie\n",
            "  Downloading marisa_trie-0.7.8-cp37-cp37m-manylinux_2_17_x86_64.manylinux2014_x86_64.whl (1.2 MB)\n",
            "\u001b[K     |████████████████████████████████| 1.2 MB 59.0 MB/s \n",
            "\u001b[?25hCollecting mwparserfromhell\n",
            "  Downloading mwparserfromhell-0.6.4-cp37-cp37m-manylinux_2_5_x86_64.manylinux1_x86_64.manylinux_2_17_x86_64.manylinux2014_x86_64.whl (176 kB)\n",
            "\u001b[K     |████████████████████████████████| 176 kB 67.1 MB/s \n",
            "\u001b[?25hRequirement already satisfied: numpy in /usr/local/lib/python3.7/dist-packages (from wikipedia2vec) (1.21.6)\n",
            "Requirement already satisfied: scipy in /usr/local/lib/python3.7/dist-packages (from wikipedia2vec) (1.7.3)\n",
            "Requirement already satisfied: six in /usr/local/lib/python3.7/dist-packages (from wikipedia2vec) (1.15.0)\n",
            "Requirement already satisfied: tqdm in /usr/local/lib/python3.7/dist-packages (from wikipedia2vec) (4.64.1)\n",
            "Requirement already satisfied: setuptools in /usr/local/lib/python3.7/dist-packages (from marisa-trie->wikipedia2vec) (57.4.0)\n",
            "Building wheels for collected packages: wikipedia2vec\n",
            "  Building wheel for wikipedia2vec (setup.py) ... \u001b[?25l\u001b[?25hdone\n",
            "  Created wheel for wikipedia2vec: filename=wikipedia2vec-1.0.5-cp37-cp37m-linux_x86_64.whl size=4558259 sha256=2e1805934f2c27534132de445a2583d41daf9a6ba3aa2e59925ba66936bf95ef\n",
            "  Stored in directory: /root/.cache/pip/wheels/60/ab/8a/23eec52d43509b9caba03d0d8c006b9f827aa6c6be177ae1ca\n",
            "Successfully built wikipedia2vec\n",
            "Installing collected packages: mwparserfromhell, marisa-trie, wikipedia2vec\n",
            "Successfully installed marisa-trie-0.7.8 mwparserfromhell-0.6.4 wikipedia2vec-1.0.5\n"
          ]
        }
      ],
      "source": [
        "!pip install wikipedia2vec"
      ]
    },
    {
      "cell_type": "markdown",
      "source": [
        "## Downloading Arabic Wikipedia: "
      ],
      "metadata": {
        "id": "Jflq4J1A7HBm"
      }
    },
    {
      "cell_type": "code",
      "source": [
        "!wget https://dumps.wikimedia.org/arwiki/20220801/arwiki-20220801-pages-articles-multistream.xml.bz2"
      ],
      "metadata": {
        "colab": {
          "base_uri": "https://localhost:8080/"
        },
        "id": "BlZi2sb47Rll",
        "outputId": "5eaf63dd-6a91-44fc-933c-4d555824dcf0"
      },
      "execution_count": null,
      "outputs": [
        {
          "output_type": "stream",
          "name": "stdout",
          "text": [
            "--2022-10-31 19:32:51--  https://dumps.wikimedia.org/arwiki/20220801/arwiki-20220801-pages-articles-multistream.xml.bz2\n",
            "Resolving dumps.wikimedia.org (dumps.wikimedia.org)... 208.80.154.142, 2620:0:861:2:208:80:154:142\n",
            "Connecting to dumps.wikimedia.org (dumps.wikimedia.org)|208.80.154.142|:443... connected.\n",
            "HTTP request sent, awaiting response... 200 OK\n",
            "Length: 1562473861 (1.5G) [application/octet-stream]\n",
            "Saving to: ‘arwiki-20220801-pages-articles-multistream.xml.bz2’\n",
            "\n",
            "arwiki-20220801-pag 100%[===================>]   1.46G  4.58MB/s    in 5m 31s  \n",
            "\n",
            "2022-10-31 19:38:22 (4.50 MB/s) - ‘arwiki-20220801-pages-articles-multistream.xml.bz2’ saved [1562473861/1562473861]\n",
            "\n"
          ]
        }
      ]
    },
    {
      "cell_type": "markdown",
      "source": [
        "## Training on Arabic Wikipedia with Wikipedia2Vec:"
      ],
      "metadata": {
        "id": "DLIFE1ZO82ZY"
      }
    },
    {
      "cell_type": "code",
      "source": [
        "!wikipedia2vec train arwiki-20220801-pages-articles-multistream.xml.bz2 ARWIKI"
      ],
      "metadata": {
        "id": "gf4PvvtJ8-fH",
        "colab": {
          "base_uri": "https://localhost:8080/"
        },
        "outputId": "9c99fe79-f42f-43c2-d75e-5cb768ce16e0"
      },
      "execution_count": null,
      "outputs": [
        {
          "output_type": "stream",
          "name": "stdout",
          "text": [
            "[2022-10-31 19:38:27,552] [INFO] Starting to build a Dump DB... (train@cli.py:128)\n",
            "[2022-10-31 19:43:49,474] [INFO] Processed: 100000 pages (_get_tasks@pool.py:528)\n",
            "[2022-10-31 19:47:09,116] [INFO] Processed: 200000 pages (_get_tasks@pool.py:528)\n",
            "[2022-10-31 19:49:42,577] [INFO] Processed: 300000 pages (_get_tasks@pool.py:528)\n",
            "[2022-10-31 19:52:48,580] [INFO] Processed: 400000 pages (_get_tasks@pool.py:528)\n",
            "[2022-10-31 19:56:03,205] [INFO] Processed: 500000 pages (_get_tasks@pool.py:528)\n",
            "[2022-10-31 19:58:50,341] [INFO] Processed: 600000 pages (_get_tasks@pool.py:528)\n",
            "[2022-10-31 20:00:56,100] [INFO] Processed: 700000 pages (_get_tasks@pool.py:528)\n",
            "[2022-10-31 20:02:54,866] [INFO] Processed: 800000 pages (_get_tasks@pool.py:528)\n",
            "[2022-10-31 20:04:04,818] [INFO] Processed: 900000 pages (_get_tasks@pool.py:528)\n",
            "[2022-10-31 20:05:59,640] [INFO] Processed: 1000000 pages (_get_tasks@pool.py:528)\n",
            "[2022-10-31 20:08:31,991] [INFO] Processed: 1100000 pages (_get_tasks@pool.py:528)\n",
            "[2022-10-31 20:11:09,569] [INFO] Processed: 1200000 pages (_get_tasks@pool.py:528)\n",
            "[2022-10-31 20:14:23,893] [INFO] Processed: 1300000 pages (_get_tasks@pool.py:528)\n",
            "[2022-10-31 20:16:46,983] [INFO] Processed: 1400000 pages (_get_tasks@pool.py:528)\n",
            "[2022-10-31 20:17:54,394] [INFO] Processed: 1500000 pages (_get_tasks@pool.py:528)\n",
            "[2022-10-31 20:18:35,400] [INFO] Processed: 1600000 pages (_get_tasks@pool.py:528)\n",
            "[2022-10-31 20:19:17,591] [INFO] Processed: 1700000 pages (_get_tasks@pool.py:528)\n",
            "[2022-10-31 20:22:03,357] [INFO] Processed: 1800000 pages (_get_tasks@pool.py:528)\n",
            "[2022-10-31 20:24:11,432] [INFO] Processed: 1900000 pages (_get_tasks@pool.py:528)\n",
            "[2022-10-31 20:25:58,981] [INFO] Processed: 2000000 pages (_get_tasks@pool.py:528)\n",
            "[2022-10-31 20:27:22,147] [INFO] Processed: 2100000 pages (_get_tasks@pool.py:528)\n",
            "[2022-10-31 20:28:24,319] [INFO] Processed: 2200000 pages (_get_tasks@pool.py:528)\n",
            "[2022-10-31 20:29:43,279] [INFO] Processed: 2300000 pages (_get_tasks@pool.py:528)\n",
            "[2022-10-31 20:31:44,345] [INFO] Processed: 2400000 pages (_get_tasks@pool.py:528)\n",
            "[2022-10-31 20:33:29,157] [INFO] Processed: 2500000 pages (_get_tasks@pool.py:528)\n",
            "[2022-10-31 20:34:43,788] [INFO] Processed: 2600000 pages (_get_tasks@pool.py:528)\n",
            "[2022-10-31 20:36:54,992] [INFO] Processed: 2700000 pages (_get_tasks@pool.py:528)\n",
            "[2022-10-31 20:39:40,429] [INFO] Processed: 2800000 pages (_get_tasks@pool.py:528)\n",
            "[2022-10-31 20:41:31,143] [INFO] Processed: 2900000 pages (_get_tasks@pool.py:528)\n",
            "[2022-10-31 20:43:11,415] [INFO] Processed: 3000000 pages (_get_tasks@pool.py:528)\n",
            "[2022-10-31 20:45:02,334] [INFO] Processed: 3100000 pages (_get_tasks@pool.py:528)\n",
            "[2022-10-31 20:47:32,473] [INFO] Processed: 3200000 pages (_get_tasks@pool.py:528)\n",
            "[2022-10-31 20:50:21,355] [INFO] Processed: 3300000 pages (_get_tasks@pool.py:528)\n",
            "[2022-10-31 20:53:04,493] [INFO] Processed: 3400000 pages (_get_tasks@pool.py:528)\n",
            "[2022-10-31 20:53:19,494] [INFO] Starting to build a dictionary... (train@cli.py:133)\n",
            "[2022-10-31 20:53:19,537] [INFO] Step 1/2: Processing Wikipedia pages... (build_dictionary@cli.py:187)\n",
            "100% 2353747/2353747 [09:04<00:00, 4321.85it/s]\n",
            "[2022-10-31 21:02:24,177] [INFO] Step 2/2: Processing Wikipedia redirects... (build_dictionary@cli.py:187)\n",
            "[2022-10-31 21:02:55,590] [INFO] 669570 words and 573938 entities are indexed in the dictionary (build_dictionary@cli.py:187)\n",
            "[2022-10-31 21:02:55,807] [INFO] Starting to build a link graph... (train@cli.py:138)\n",
            "[2022-10-31 21:02:55,822] [INFO] Step 1/2: Processing Wikipedia pages... (build_link_graph@cli.py:200)\n",
            "100% 2353747/2353747 [00:58<00:00, 39969.58it/s]\n",
            "[2022-10-31 21:03:54,764] [INFO] Step 2/2: Converting matrix... (build_link_graph@cli.py:200)\n",
            "[2022-10-31 21:03:58,284] [INFO] Starting to build a mention DB... (train@cli.py:147)\n",
            "[2022-10-31 21:03:58,302] [INFO] Step 1/3: Starting to iterate over Wikipedia pages... (build_mention_db@cli.py:221)\n",
            "100% 2353747/2353747 [02:03<00:00, 19126.79it/s]\n",
            "[2022-10-31 21:06:01,409] [INFO] Step 2/3: Starting to count occurrences... (build_mention_db@cli.py:221)\n",
            "100% 2353747/2353747 [15:10<00:00, 2584.51it/s]\n",
            "[2022-10-31 21:21:13,834] [INFO] Step 3/3: Building DB... (build_mention_db@cli.py:221)\n",
            "[2022-10-31 21:21:22,944] [INFO] Starting to train embeddings... (train@cli.py:156)\n",
            "[2022-10-31 21:21:25,620] [INFO] Total number of word occurrences: 1333746350 (train_embedding@cli.py:257)\n",
            "[2022-10-31 21:21:25,620] [INFO] Building a sampling table for frequent words... (train_embedding@cli.py:257)\n",
            "[2022-10-31 21:21:26,646] [INFO] Building tables for negative sampling... (train_embedding@cli.py:257)\n",
            "[2022-10-31 21:21:44,842] [INFO] Building tables for link indices... (train_embedding@cli.py:257)\n",
            "[2022-10-31 21:22:13,698] [INFO] Starting to train embeddings... (train_embedding@cli.py:257)\n",
            "[2022-10-31 21:22:13,975] [INFO] Initializing weights... (train_embedding@cli.py:257)\n",
            "Iteration 1/5: 100% 2353747/2353747 [1:10:52<00:00, 553.52it/s]\n",
            "Iteration 2/5: 100% 2353747/2353747 [1:10:35<00:00, 555.69it/s]\n",
            "Iteration 3/5: 100% 2353747/2353747 [1:10:31<00:00, 556.22it/s]\n",
            "Iteration 4/5: 100% 2353747/2353747 [1:10:09<00:00, 559.20it/s]\n",
            "Iteration 5/5: 100% 2353747/2353747 [1:10:03<00:00, 559.92it/s]\n",
            "[2022-11-01 03:14:33,180] [INFO] Terminating pool workers... (train_embedding@cli.py:257)\n"
          ]
        }
      ]
    },
    {
      "cell_type": "markdown",
      "source": [
        "## Exporting Arabic Wikipedia Word Vectors in GloVe Format:"
      ],
      "metadata": {
        "id": "NXoiHNPc9eO_"
      }
    },
    {
      "cell_type": "code",
      "source": [
        "! wikipedia2vec save-text ARWIKI GloVe-AR-Vectors.txt --out-format glove"
      ],
      "metadata": {
        "id": "zLjVhVDq9iFL"
      },
      "execution_count": null,
      "outputs": []
    },
    {
      "cell_type": "code",
      "source": [
        "! wikipedia2vec save-text ARWIKI Word2Vec-AR-Vectors.txt --out-format word2vec "
      ],
      "metadata": {
        "id": "QESbVNxg_qNZ"
      },
      "execution_count": null,
      "outputs": []
    },
    {
      "cell_type": "markdown",
      "source": [
        "## Saving Arabic Wikipedia Word Vectors:"
      ],
      "metadata": {
        "id": "fnDNs5ip9w5i"
      }
    },
    {
      "cell_type": "code",
      "source": [
        "from google.colab import files\n",
        "\n",
        "files.download('ARWIKI')\n",
        "files.download('GloVe-AR-Vectors.txt')\n",
        "files.download('Word2Vec-AR-Vectors.txt')"
      ],
      "metadata": {
        "id": "Dv9J1bm993Pr",
        "colab": {
          "base_uri": "https://localhost:8080/",
          "height": 69
        },
        "outputId": "cc0d9f02-ca2b-4757-aa1a-f286df4747f2"
      },
      "execution_count": null,
      "outputs": [
        {
          "output_type": "display_data",
          "data": {
            "text/plain": [
              "<IPython.core.display.Javascript object>"
            ],
            "application/javascript": [
              "\n",
              "    async function download(id, filename, size) {\n",
              "      if (!google.colab.kernel.accessAllowed) {\n",
              "        return;\n",
              "      }\n",
              "      const div = document.createElement('div');\n",
              "      const label = document.createElement('label');\n",
              "      label.textContent = `Downloading \"${filename}\": `;\n",
              "      div.appendChild(label);\n",
              "      const progress = document.createElement('progress');\n",
              "      progress.max = size;\n",
              "      div.appendChild(progress);\n",
              "      document.body.appendChild(div);\n",
              "\n",
              "      const buffers = [];\n",
              "      let downloaded = 0;\n",
              "\n",
              "      const channel = await google.colab.kernel.comms.open(id);\n",
              "      // Send a message to notify the kernel that we're ready.\n",
              "      channel.send({})\n",
              "\n",
              "      for await (const message of channel.messages) {\n",
              "        // Send a message to notify the kernel that we're ready.\n",
              "        channel.send({})\n",
              "        if (message.buffers) {\n",
              "          for (const buffer of message.buffers) {\n",
              "            buffers.push(buffer);\n",
              "            downloaded += buffer.byteLength;\n",
              "            progress.value = downloaded;\n",
              "          }\n",
              "        }\n",
              "      }\n",
              "      const blob = new Blob(buffers, {type: 'application/binary'});\n",
              "      const a = document.createElement('a');\n",
              "      a.href = window.URL.createObjectURL(blob);\n",
              "      a.download = filename;\n",
              "      div.appendChild(a);\n",
              "      a.click();\n",
              "      div.remove();\n",
              "    }\n",
              "  "
            ]
          },
          "metadata": {}
        },
        {
          "output_type": "display_data",
          "data": {
            "text/plain": [
              "<IPython.core.display.Javascript object>"
            ],
            "application/javascript": [
              "download(\"download_560aca77-2f1d-42bf-8b8f-85ec5793d48d\", \"ARWIKI\", 1014687897)"
            ]
          },
          "metadata": {}
        },
        {
          "output_type": "display_data",
          "data": {
            "text/plain": [
              "<IPython.core.display.Javascript object>"
            ],
            "application/javascript": [
              "\n",
              "    async function download(id, filename, size) {\n",
              "      if (!google.colab.kernel.accessAllowed) {\n",
              "        return;\n",
              "      }\n",
              "      const div = document.createElement('div');\n",
              "      const label = document.createElement('label');\n",
              "      label.textContent = `Downloading \"${filename}\": `;\n",
              "      div.appendChild(label);\n",
              "      const progress = document.createElement('progress');\n",
              "      progress.max = size;\n",
              "      div.appendChild(progress);\n",
              "      document.body.appendChild(div);\n",
              "\n",
              "      const buffers = [];\n",
              "      let downloaded = 0;\n",
              "\n",
              "      const channel = await google.colab.kernel.comms.open(id);\n",
              "      // Send a message to notify the kernel that we're ready.\n",
              "      channel.send({})\n",
              "\n",
              "      for await (const message of channel.messages) {\n",
              "        // Send a message to notify the kernel that we're ready.\n",
              "        channel.send({})\n",
              "        if (message.buffers) {\n",
              "          for (const buffer of message.buffers) {\n",
              "            buffers.push(buffer);\n",
              "            downloaded += buffer.byteLength;\n",
              "            progress.value = downloaded;\n",
              "          }\n",
              "        }\n",
              "      }\n",
              "      const blob = new Blob(buffers, {type: 'application/binary'});\n",
              "      const a = document.createElement('a');\n",
              "      a.href = window.URL.createObjectURL(blob);\n",
              "      a.download = filename;\n",
              "      div.appendChild(a);\n",
              "      a.click();\n",
              "      div.remove();\n",
              "    }\n",
              "  "
            ]
          },
          "metadata": {}
        },
        {
          "output_type": "display_data",
          "data": {
            "text/plain": [
              "<IPython.core.display.Javascript object>"
            ],
            "application/javascript": [
              "download(\"download_478a8767-2075-4592-bf17-1c47bc32e1e3\", \"GloVe-AR-Vectors.txt\", 972377130)"
            ]
          },
          "metadata": {}
        },
        {
          "output_type": "display_data",
          "data": {
            "text/plain": [
              "<IPython.core.display.Javascript object>"
            ],
            "application/javascript": [
              "\n",
              "    async function download(id, filename, size) {\n",
              "      if (!google.colab.kernel.accessAllowed) {\n",
              "        return;\n",
              "      }\n",
              "      const div = document.createElement('div');\n",
              "      const label = document.createElement('label');\n",
              "      label.textContent = `Downloading \"${filename}\": `;\n",
              "      div.appendChild(label);\n",
              "      const progress = document.createElement('progress');\n",
              "      progress.max = size;\n",
              "      div.appendChild(progress);\n",
              "      document.body.appendChild(div);\n",
              "\n",
              "      const buffers = [];\n",
              "      let downloaded = 0;\n",
              "\n",
              "      const channel = await google.colab.kernel.comms.open(id);\n",
              "      // Send a message to notify the kernel that we're ready.\n",
              "      channel.send({})\n",
              "\n",
              "      for await (const message of channel.messages) {\n",
              "        // Send a message to notify the kernel that we're ready.\n",
              "        channel.send({})\n",
              "        if (message.buffers) {\n",
              "          for (const buffer of message.buffers) {\n",
              "            buffers.push(buffer);\n",
              "            downloaded += buffer.byteLength;\n",
              "            progress.value = downloaded;\n",
              "          }\n",
              "        }\n",
              "      }\n",
              "      const blob = new Blob(buffers, {type: 'application/binary'});\n",
              "      const a = document.createElement('a');\n",
              "      a.href = window.URL.createObjectURL(blob);\n",
              "      a.download = filename;\n",
              "      div.appendChild(a);\n",
              "      a.click();\n",
              "      div.remove();\n",
              "    }\n",
              "  "
            ]
          },
          "metadata": {}
        },
        {
          "output_type": "display_data",
          "data": {
            "text/plain": [
              "<IPython.core.display.Javascript object>"
            ],
            "application/javascript": [
              "download(\"download_b35aafb8-a461-42de-8002-808dc04a8ae8\", \"Word2Vec-AR-Vectors.txt\", 972377142)"
            ]
          },
          "metadata": {}
        }
      ]
    },
    {
      "cell_type": "markdown",
      "source": [
        "## GloVe Model:"
      ],
      "metadata": {
        "id": "5nEmQAta-d-0"
      }
    },
    {
      "cell_type": "code",
      "source": [
        "from gensim.models import KeyedVectors\n",
        "from gensim.test.utils import datapath, get_tmpfile\n",
        "from gensim.scripts.glove2word2vec import glove2word2vec\n",
        "\n",
        "import warnings, os\n",
        "warnings.simplefilter(action='ignore', category=FutureWarning)\n",
        "warnings.simplefilter(action='ignore', category=DeprecationWarning)\n",
        "\n",
        "glove_file = datapath('/content/GloVe-AR-Vectors.txt')\n",
        "word2vec_glove_file = get_tmpfile(\"glove-ar-vectors-word2vec.txt\")\n",
        "glove2word2vec(glove_file, word2vec_glove_file)\n",
        "\n",
        "glove_model = KeyedVectors.load_word2vec_format(word2vec_glove_file)"
      ],
      "metadata": {
        "id": "czS22gOM-fdp"
      },
      "execution_count": null,
      "outputs": []
    },
    {
      "cell_type": "markdown",
      "source": [
        "### Word Embeddings of a Given Word:"
      ],
      "metadata": {
        "id": "RSfzrevT-u7K"
      }
    },
    {
      "cell_type": "code",
      "source": [
        "glove_model['فتاة']  # Word is girl"
      ],
      "metadata": {
        "id": "h3Na-4ey-yla",
        "colab": {
          "base_uri": "https://localhost:8080/"
        },
        "outputId": "de2eb5d6-537f-4c80-a1c2-e77bd703a5b5"
      },
      "execution_count": null,
      "outputs": [
        {
          "output_type": "execute_result",
          "data": {
            "text/plain": [
              "array([-0.0182,  0.1268,  0.0323, -0.2797, -0.2255,  0.141 ,  0.3945,\n",
              "        0.1535, -0.3708, -0.2556,  0.2525,  0.5507, -0.6943, -0.4315,\n",
              "        0.4081,  1.2582,  0.413 , -0.9997, -0.5266, -0.5232,  0.1388,\n",
              "        0.3177,  0.0104,  0.372 , -0.2198, -0.0683, -0.5126, -0.0418,\n",
              "       -0.308 , -0.1393, -0.1664,  0.3687, -0.609 , -0.442 , -0.5158,\n",
              "       -0.0988,  0.5252,  0.6538, -0.1124,  0.4461,  0.0947,  0.2856,\n",
              "       -0.2991,  0.2409, -0.8765, -0.3864,  0.0955,  0.4459,  0.144 ,\n",
              "        0.0126,  0.2636,  0.2331,  0.322 ,  0.0244, -0.3738, -0.6066,\n",
              "       -0.1775,  0.3868,  0.4536, -0.0989,  0.4599, -0.2481,  0.2161,\n",
              "        0.1738, -0.1589, -0.2373, -0.3509, -0.1993,  0.1173, -0.3738,\n",
              "        0.8868, -0.1698, -0.1047,  0.2931, -0.1791, -0.7831,  0.2652,\n",
              "       -0.6006, -0.0037,  0.178 , -0.0557,  0.2259,  0.0682,  0.2794,\n",
              "       -0.3161, -0.1228,  0.5555,  0.6845, -0.3556, -0.423 , -0.2913,\n",
              "       -0.0678, -0.5005,  0.044 , -0.046 ,  0.1741,  0.1946,  0.3935,\n",
              "       -0.0061,  0.0033], dtype=float32)"
            ]
          },
          "metadata": {},
          "execution_count": 8
        }
      ]
    },
    {
      "cell_type": "markdown",
      "source": [
        "### Glove's Most Similar Words of a Given word:"
      ],
      "metadata": {
        "id": "EoySPjc1-6SY"
      }
    },
    {
      "cell_type": "code",
      "source": [
        "glove_model.most_similar(\"فتاة\")"
      ],
      "metadata": {
        "id": "H2dZty9t-8UY",
        "colab": {
          "base_uri": "https://localhost:8080/"
        },
        "outputId": "03966114-3dab-4111-d210-5094dd50d80d"
      },
      "execution_count": null,
      "outputs": [
        {
          "output_type": "execute_result",
          "data": {
            "text/plain": [
              "[('طفلة', 0.8759556412696838),\n",
              " ('شابة', 0.8365658521652222),\n",
              " ('فتاه', 0.8252592086791992),\n",
              " ('وفتاة', 0.8144962787628174),\n",
              " ('لفتاة', 0.8021165132522583),\n",
              " ('كفتاة', 0.7916913032531738),\n",
              " ('إمراة', 0.7868704795837402),\n",
              " ('تلميذة', 0.7831072807312012),\n",
              " ('بفتاة', 0.7809919118881226),\n",
              " ('مدللة', 0.7773781418800354)]"
            ]
          },
          "metadata": {},
          "execution_count": 9
        }
      ]
    },
    {
      "cell_type": "markdown",
      "source": [
        "## Word Embedding Analogies Testing:"
      ],
      "metadata": {
        "id": "zPINUtuJ_Ezh"
      }
    },
    {
      "cell_type": "markdown",
      "source": [
        "### Queen - Girl + Boy = ____?"
      ],
      "metadata": {
        "id": "fdKvb4p4_LzO"
      }
    },
    {
      "cell_type": "code",
      "source": [
        "glove_model.most_similar(positive=['فتى', 'ملكة'], negative=['فتاة'], topn=1)"
      ],
      "metadata": {
        "id": "XDckxzOs_NQj",
        "colab": {
          "base_uri": "https://localhost:8080/"
        },
        "outputId": "c316e91f-f8d0-445d-c9b6-f43fa87f86a5"
      },
      "execution_count": null,
      "outputs": [
        {
          "output_type": "execute_result",
          "data": {
            "text/plain": [
              "[('ملك', 0.6851482391357422)]"
            ]
          },
          "metadata": {},
          "execution_count": 10
        }
      ]
    },
    {
      "cell_type": "markdown",
      "source": [
        "### Queen - Woman + Man = ____?"
      ],
      "metadata": {
        "id": "i1iUHnk3_S0C"
      }
    },
    {
      "cell_type": "code",
      "source": [
        "glove_model.most_similar(positive=['رجل', 'ملكة'], negative=['امرأة'], topn=1)"
      ],
      "metadata": {
        "id": "41mvPbMO_Wo_",
        "colab": {
          "base_uri": "https://localhost:8080/"
        },
        "outputId": "96a5ba64-5d75-445e-fdf1-84f3acddacc9"
      },
      "execution_count": null,
      "outputs": [
        {
          "output_type": "execute_result",
          "data": {
            "text/plain": [
              "[('ملك', 0.6721993684768677)]"
            ]
          },
          "metadata": {},
          "execution_count": 11
        }
      ]
    },
    {
      "cell_type": "markdown",
      "source": [
        "### Queen - Woman + Boy = ____?"
      ],
      "metadata": {
        "id": "Wo3-zaMe_bpK"
      }
    },
    {
      "cell_type": "code",
      "source": [
        "glove_model.most_similar(positive=['فتى', 'ملكة'], negative=['امرأة'], topn=1) "
      ],
      "metadata": {
        "id": "e3IzKd6J_eQ9",
        "colab": {
          "base_uri": "https://localhost:8080/"
        },
        "outputId": "512a1b19-4139-48f2-9b2e-c3b4faa614aa"
      },
      "execution_count": null,
      "outputs": [
        {
          "output_type": "execute_result",
          "data": {
            "text/plain": [
              "[('ايب', 0.60687655210495)]"
            ]
          },
          "metadata": {},
          "execution_count": 12
        }
      ]
    },
    {
      "cell_type": "markdown",
      "source": [
        "### Queen - Girl + Man = ____?"
      ],
      "metadata": {
        "id": "FSHHaLeK_tay"
      }
    },
    {
      "cell_type": "code",
      "source": [
        "glove_model.most_similar(positive=['رجل', 'ملكة'], negative=['فتاة'], topn=1)"
      ],
      "metadata": {
        "id": "8_kdoBcL_wnV",
        "colab": {
          "base_uri": "https://localhost:8080/"
        },
        "outputId": "af64dbf1-04b8-4195-e4ff-672074991d2f"
      },
      "execution_count": null,
      "outputs": [
        {
          "output_type": "execute_result",
          "data": {
            "text/plain": [
              "[('وملكة', 0.640130877494812)]"
            ]
          },
          "metadata": {},
          "execution_count": 13
        }
      ]
    },
    {
      "cell_type": "markdown",
      "source": [
        "### King - Man + Girl = ___?"
      ],
      "metadata": {
        "id": "DIyuArNc_1V0"
      }
    },
    {
      "cell_type": "code",
      "source": [
        "glove_model.most_similar(positive=['فتاة','ملك'], negative=['رجل'], topn=1)"
      ],
      "metadata": {
        "id": "1AsXRJbO_4oS",
        "colab": {
          "base_uri": "https://localhost:8080/"
        },
        "outputId": "ba87beb4-9545-4c7b-f97c-88dbbd794a60"
      },
      "execution_count": null,
      "outputs": [
        {
          "output_type": "execute_result",
          "data": {
            "text/plain": [
              "[('كأميرة', 0.6931409239768982)]"
            ]
          },
          "metadata": {},
          "execution_count": 14
        }
      ]
    },
    {
      "cell_type": "markdown",
      "source": [
        "### King - Man + Woman =___?"
      ],
      "metadata": {
        "id": "f87j7rlY_9jm"
      }
    },
    {
      "cell_type": "code",
      "source": [
        "glove_model.most_similar(positive=['إمرأة','ملك'], negative=['رجل'], topn=1)"
      ],
      "metadata": {
        "id": "8FOAYAxIABX2",
        "colab": {
          "base_uri": "https://localhost:8080/"
        },
        "outputId": "b001c01a-ab58-4f0d-e83a-60a98484d832"
      },
      "execution_count": null,
      "outputs": [
        {
          "output_type": "execute_result",
          "data": {
            "text/plain": [
              "[('ملكة', 0.6481277346611023)]"
            ]
          },
          "metadata": {},
          "execution_count": 15
        }
      ]
    },
    {
      "cell_type": "markdown",
      "source": [
        "### King - Boy + Woman =___?"
      ],
      "metadata": {
        "id": "99yJ7QE3AG2x"
      }
    },
    {
      "cell_type": "code",
      "source": [
        "glove_model.most_similar(positive=['إمرأة','ملك'], negative=['فتى'], topn=1)  "
      ],
      "metadata": {
        "id": "_CV847CrAJ3R",
        "colab": {
          "base_uri": "https://localhost:8080/"
        },
        "outputId": "9637b3d9-abeb-4948-9255-2a398409383c"
      },
      "execution_count": null,
      "outputs": [
        {
          "output_type": "execute_result",
          "data": {
            "text/plain": [
              "[('القرينة', 0.640686571598053)]"
            ]
          },
          "metadata": {},
          "execution_count": 16
        }
      ]
    },
    {
      "cell_type": "markdown",
      "source": [
        "### King - Boy + Girl =___?"
      ],
      "metadata": {
        "id": "bYulPF_fAONo"
      }
    },
    {
      "cell_type": "code",
      "source": [
        "glove_model.most_similar(positive=['فتاة','ملك'], negative=['فتى'], topn=1) "
      ],
      "metadata": {
        "id": "jhD4_EiVAQvV",
        "colab": {
          "base_uri": "https://localhost:8080/"
        },
        "outputId": "976ff8f7-9bd9-48b4-e90f-2b6da123ab6c"
      },
      "execution_count": null,
      "outputs": [
        {
          "output_type": "execute_result",
          "data": {
            "text/plain": [
              "[('كأميرة', 0.7460616230964661)]"
            ]
          },
          "metadata": {},
          "execution_count": 17
        }
      ]
    },
    {
      "cell_type": "markdown",
      "source": [
        "### Using The list of Arabic Words:"
      ],
      "metadata": {
        "id": "jaDv8LKhAVo7"
      }
    },
    {
      "cell_type": "code",
      "source": [
        "words= ['امرأه','رجل','ولد','ام','اب','فتاة','فتى','ملكه','ملك','سيده','سيد','ابنه'] #  formal list is  [daughter,sir,madam,king,queen,boy,girl,father,mother,son,man,woman] respectively.\n",
        "for w in words:\n",
        "   print(w ,\">>>>>\" , glove_model.most_similar(w, topn=1) ,\"\\n\")  "
      ],
      "metadata": {
        "id": "U47hXFs4Ah8x",
        "colab": {
          "base_uri": "https://localhost:8080/"
        },
        "outputId": "3e425952-c972-46e1-970e-6531a6df85c8"
      },
      "execution_count": null,
      "outputs": [
        {
          "output_type": "stream",
          "name": "stdout",
          "text": [
            "امرأه >>>>> [('امراة', 0.8110108375549316)] \n",
            "\n",
            "رجل >>>>> [('ورجل', 0.8235027194023132)] \n",
            "\n",
            "ولد >>>>> [('وسياسي', 0.812402606010437)] \n",
            "\n",
            "ام >>>>> [('اس', 0.8102815747261047)] \n",
            "\n",
            "اب >>>>> [('تاب', 0.8323979377746582)] \n",
            "\n",
            "فتاة >>>>> [('طفلة', 0.8759556412696838)] \n",
            "\n",
            "فتى >>>>> [('صبي', 0.8588953018188477)] \n",
            "\n",
            "ملكه >>>>> [('سلطانه', 0.8421751260757446)] \n",
            "\n",
            "ملك >>>>> [('وملك', 0.8720160126686096)] \n",
            "\n",
            "سيده >>>>> [('خادمه', 0.8185234069824219)] \n",
            "\n",
            "سيد >>>>> [('وسيد', 0.8042435646057129)] \n",
            "\n",
            "ابنه >>>>> [('أخيه', 0.9456087350845337)] \n",
            "\n"
          ]
        }
      ]
    }
  ]
}